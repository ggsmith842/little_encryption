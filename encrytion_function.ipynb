{
 "cells": [
  {
   "cell_type": "markdown",
   "id": "flush-tobacco",
   "metadata": {},
   "source": [
    "### Mini Encryption"
   ]
  },
  {
   "cell_type": "code",
   "execution_count": 16,
   "id": "nutritional-annex",
   "metadata": {},
   "outputs": [],
   "source": [
    "import numpy as np\n",
    "import string"
   ]
  },
  {
   "cell_type": "code",
   "execution_count": 129,
   "id": "appreciated-industry",
   "metadata": {},
   "outputs": [],
   "source": [
    "sample_str = 'PassWord_15@@'\n",
    "sample_str = 'QbttXpse_26@@'"
   ]
  },
  {
   "cell_type": "code",
   "execution_count": 54,
   "id": "choice-legislation",
   "metadata": {},
   "outputs": [
    {
     "data": {
      "text/plain": [
       "'0123456789'"
      ]
     },
     "execution_count": 54,
     "metadata": {},
     "output_type": "execute_result"
    }
   ],
   "source": [
    "#build library\n",
    "upper_lib = string.ascii_uppercase\n",
    "lower_lib = string.ascii_lowercase\n",
    "num_lib = string.digits\n"
   ]
  },
  {
   "cell_type": "code",
   "execution_count": 130,
   "id": "golden-cooler",
   "metadata": {},
   "outputs": [],
   "source": [
    "shift = -1\n",
    "new_str=[]\n",
    "for i in range(len(sample_str)):\n",
    "    if sample_str[i].isalnum() == False:\n",
    "        new_str.append(sample_str[i])\n",
    "    elif sample_str[i].isnumeric() == True:\n",
    "        if sample_str[i]=='9':\n",
    "            new_str.append(str(0+shift-1))\n",
    "        else:\n",
    "            current = num_lib.index(sample_str[i])\n",
    "            shift_val = num_lib[current+shift]\n",
    "            #print(shift_val) \n",
    "            new_str.append(shift_val)\n",
    "            \n",
    "    else:\n",
    "        if sample_str[i].isupper() == True:\n",
    "            if sample_str[i]=='Z':\n",
    "                new_str.append(upper_lib[0+shift-1])\n",
    "            else:\n",
    "                current = upper_lib.index(sample_str[i])\n",
    "                shift_val = upper_lib[current+shift]\n",
    "                #print(shift_val)\n",
    "                new_str.append(shift_val)\n",
    "        else:\n",
    "            if sample_str[i]=='z':\n",
    "                new_str.append(lower_lib[0+shift-1])\n",
    "            else:\n",
    "                current = lower_lib.index(sample_str[i])\n",
    "                shift_val = lower_lib[current+shift]\n",
    "                #print(shift_val)\n",
    "                new_str.append(shift_val)\n",
    "    \n",
    "pw = \"\".join(new_str)"
   ]
  },
  {
   "cell_type": "code",
   "execution_count": 131,
   "id": "mineral-dress",
   "metadata": {},
   "outputs": [
    {
     "data": {
      "text/plain": [
       "'PassWord_15@@'"
      ]
     },
     "execution_count": 131,
     "metadata": {},
     "output_type": "execute_result"
    }
   ],
   "source": [
    "pw"
   ]
  },
  {
   "cell_type": "code",
   "execution_count": 110,
   "id": "effective-stretch",
   "metadata": {},
   "outputs": [
    {
     "data": {
      "text/plain": [
       "'OABmmCmbdlt_20!!'"
      ]
     },
     "execution_count": 110,
     "metadata": {},
     "output_type": "execute_result"
    }
   ],
   "source": [
    "pw"
   ]
  }
 ],
 "metadata": {
  "kernelspec": {
   "display_name": "Python 3",
   "language": "python",
   "name": "python3"
  },
  "language_info": {
   "codemirror_mode": {
    "name": "ipython",
    "version": 3
   },
   "file_extension": ".py",
   "mimetype": "text/x-python",
   "name": "python",
   "nbconvert_exporter": "python",
   "pygments_lexer": "ipython3",
   "version": "3.7.9"
  }
 },
 "nbformat": 4,
 "nbformat_minor": 5
}
