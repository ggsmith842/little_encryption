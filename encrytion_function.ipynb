{
 "cells": [
  {
   "cell_type": "markdown",
   "id": "disabled-rings",
   "metadata": {},
   "source": [
    "### Mini Encryption"
   ]
  },
  {
   "cell_type": "code",
   "execution_count": 2,
   "id": "cosmetic-powell",
   "metadata": {},
   "outputs": [],
   "source": [
    "import numpy as np\n",
    "import string"
   ]
  },
  {
   "cell_type": "code",
   "execution_count": 20,
   "id": "extended-blackjack",
   "metadata": {},
   "outputs": [],
   "source": [
    "pw_str = 'PassWord_15@@' #password we want to encrypt"
   ]
  },
  {
   "cell_type": "code",
   "execution_count": 27,
   "id": "existing-kelly",
   "metadata": {},
   "outputs": [],
   "source": [
    "#encryption function \n",
    "def caesar_cipher(pw_str,shift,decryption=False):\n",
    "    \n",
    "    #build library\n",
    "    upper_lib = string.ascii_uppercase\n",
    "    lower_lib = string.ascii_lowercase\n",
    "    num_lib = string.digits\n",
    "    \n",
    "    #test for encryption or decryption\n",
    "    if decryption == True:\n",
    "        shift = shift*-1\n",
    "    \n",
    "    \n",
    "    new_str=[]\n",
    "    for i in range(len(pw_str)):\n",
    "        if pw_str[i].isalnum() == False: #check if special character\n",
    "            new_str.append(pw_str[i])\n",
    "        elif pw_str[i].isnumeric() == True: #check if number\n",
    "            if pw_str[i]=='9':\n",
    "                new_str.append(str(0+shift-1))\n",
    "            else:\n",
    "                current = num_lib.index(pw_str[i])\n",
    "                shift_val = num_lib[current+shift] \n",
    "                new_str.append(shift_val)\n",
    "\n",
    "        \n",
    "        else:\n",
    "            if pw_str[i].isupper() == True: #check if uppercase \n",
    "                if pw_str[i]=='Z':\n",
    "                    new_str.append(upper_lib[0+shift-1])\n",
    "                else:\n",
    "                    current = upper_lib.index(pw_str[i])\n",
    "                    shift_val = upper_lib[current+shift]\n",
    "                    new_str.append(shift_val)\n",
    "            else:\n",
    "                if pw_str[i]=='z':\n",
    "                    new_str.append(lower_lib[0+shift-1])\n",
    "                else:\n",
    "                    current = lower_lib.index(pw_str[i])\n",
    "                    shift_val = lower_lib[current+shift]\n",
    "                    #print(shift_val)\n",
    "                    new_str.append(shift_val)\n",
    "\n",
    "    pw = \"\".join(new_str) #return encrypted/decryted password and shift value\n",
    "    return pw, f'sv{shift}'"
   ]
  },
  {
   "cell_type": "code",
   "execution_count": 28,
   "id": "serious-supplement",
   "metadata": {},
   "outputs": [
    {
     "data": {
      "text/plain": [
       "('QbttXpse_26@@', 'sv1')"
      ]
     },
     "execution_count": 28,
     "metadata": {},
     "output_type": "execute_result"
    }
   ],
   "source": [
    "caesar_cipher(pw_str,1)\n",
    "\n",
    "#recommend adding keyword to encrytped passwords so you can decrypt later if needed\n",
    "#i.e. newPassword sv3 would mean decrpytion requires a -3 shift value"
   ]
  },
  {
   "cell_type": "code",
   "execution_count": 29,
   "id": "worth-ordering",
   "metadata": {},
   "outputs": [
    {
     "data": {
      "text/plain": [
       "('PassWord_15@@', 'sv-1')"
      ]
     },
     "execution_count": 29,
     "metadata": {},
     "output_type": "execute_result"
    }
   ],
   "source": [
    "#decryption\n",
    "caesar_cipher('QbttXpse_26@@',1,True)"
   ]
  }
 ],
 "metadata": {
  "kernelspec": {
   "display_name": "Python 3",
   "language": "python",
   "name": "python3"
  },
  "language_info": {
   "codemirror_mode": {
    "name": "ipython",
    "version": 3
   },
   "file_extension": ".py",
   "mimetype": "text/x-python",
   "name": "python",
   "nbconvert_exporter": "python",
   "pygments_lexer": "ipython3",
   "version": "3.7.9"
  }
 },
 "nbformat": 4,
 "nbformat_minor": 5
}
